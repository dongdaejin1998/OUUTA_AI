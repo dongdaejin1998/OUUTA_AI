{
 "cells": [
  {
   "cell_type": "code",
   "execution_count": 1,
   "metadata": {
    "colab": {
     "base_uri": "https://localhost:8080/"
    },
    "executionInfo": {
     "elapsed": 5303,
     "status": "ok",
     "timestamp": 1666100584547,
     "user": {
      "displayName": "김동규",
      "userId": "00781962647797002728"
     },
     "user_tz": -540
    },
    "id": "4I5LBN5Zfl7Y",
    "outputId": "8208cb24-5239-41bd-e359-6d8157cf2c42"
   },
   "outputs": [
    {
     "name": "stdout",
     "output_type": "stream",
     "text": [
      "Requirement already satisfied: import_ipynb in c:\\users\\user\\anaconda3\\envs\\ml\\lib\\site-packages (0.1.4)\n",
      "Requirement already satisfied: nbformat in c:\\users\\user\\anaconda3\\envs\\ml\\lib\\site-packages (from import_ipynb) (5.3.0)\n",
      "Requirement already satisfied: IPython in c:\\users\\user\\anaconda3\\envs\\ml\\lib\\site-packages (from import_ipynb) (8.4.0)\n",
      "Requirement already satisfied: matplotlib-inline in c:\\users\\user\\anaconda3\\envs\\ml\\lib\\site-packages (from IPython->import_ipynb) (0.1.2)\n",
      "Requirement already satisfied: decorator in c:\\users\\user\\anaconda3\\envs\\ml\\lib\\site-packages (from IPython->import_ipynb) (5.1.1)\n",
      "Requirement already satisfied: setuptools>=18.5 in c:\\users\\user\\anaconda3\\envs\\ml\\lib\\site-packages (from IPython->import_ipynb) (61.2.0)\n",
      "Requirement already satisfied: stack-data in c:\\users\\user\\anaconda3\\envs\\ml\\lib\\site-packages (from IPython->import_ipynb) (0.2.0)\n",
      "Requirement already satisfied: pickleshare in c:\\users\\user\\anaconda3\\envs\\ml\\lib\\site-packages (from IPython->import_ipynb) (0.7.5)\n",
      "Requirement already satisfied: prompt-toolkit!=3.0.0,!=3.0.1,<3.1.0,>=2.0.0 in c:\\users\\user\\anaconda3\\envs\\ml\\lib\\site-packages (from IPython->import_ipynb) (3.0.20)\n",
      "Requirement already satisfied: traitlets>=5 in c:\\users\\user\\anaconda3\\envs\\ml\\lib\\site-packages (from IPython->import_ipynb) (5.1.1)\n",
      "Requirement already satisfied: pygments>=2.4.0 in c:\\users\\user\\anaconda3\\envs\\ml\\lib\\site-packages (from IPython->import_ipynb) (2.11.2)\n",
      "Requirement already satisfied: colorama in c:\\users\\user\\anaconda3\\envs\\ml\\lib\\site-packages (from IPython->import_ipynb) (0.4.5)\n",
      "Requirement already satisfied: backcall in c:\\users\\user\\anaconda3\\envs\\ml\\lib\\site-packages (from IPython->import_ipynb) (0.2.0)\n",
      "Requirement already satisfied: jedi>=0.16 in c:\\users\\user\\anaconda3\\envs\\ml\\lib\\site-packages (from IPython->import_ipynb) (0.18.1)\n",
      "Requirement already satisfied: fastjsonschema in c:\\users\\user\\anaconda3\\envs\\ml\\lib\\site-packages (from nbformat->import_ipynb) (2.15.1)\n",
      "Requirement already satisfied: jsonschema>=2.6 in c:\\users\\user\\anaconda3\\envs\\ml\\lib\\site-packages (from nbformat->import_ipynb) (4.4.0)\n",
      "Requirement already satisfied: jupyter-core in c:\\users\\user\\anaconda3\\envs\\ml\\lib\\site-packages (from nbformat->import_ipynb) (4.10.0)\n",
      "Requirement already satisfied: parso<0.9.0,>=0.8.0 in c:\\users\\user\\anaconda3\\envs\\ml\\lib\\site-packages (from jedi>=0.16->IPython->import_ipynb) (0.8.3)\n",
      "Requirement already satisfied: attrs>=17.4.0 in c:\\users\\user\\anaconda3\\envs\\ml\\lib\\site-packages (from jsonschema>=2.6->nbformat->import_ipynb) (21.4.0)\n",
      "Requirement already satisfied: importlib-resources>=1.4.0 in c:\\users\\user\\anaconda3\\envs\\ml\\lib\\site-packages (from jsonschema>=2.6->nbformat->import_ipynb) (5.2.0)\n",
      "Requirement already satisfied: pyrsistent!=0.17.0,!=0.17.1,!=0.17.2,>=0.14.0 in c:\\users\\user\\anaconda3\\envs\\ml\\lib\\site-packages (from jsonschema>=2.6->nbformat->import_ipynb) (0.18.0)\n",
      "Requirement already satisfied: wcwidth in c:\\users\\user\\anaconda3\\envs\\ml\\lib\\site-packages (from prompt-toolkit!=3.0.0,!=3.0.1,<3.1.0,>=2.0.0->IPython->import_ipynb) (0.2.5)\n",
      "Requirement already satisfied: pywin32>=1.0 in c:\\users\\user\\anaconda3\\envs\\ml\\lib\\site-packages (from jupyter-core->nbformat->import_ipynb) (302)\n",
      "Requirement already satisfied: asttokens in c:\\users\\user\\anaconda3\\envs\\ml\\lib\\site-packages (from stack-data->IPython->import_ipynb) (2.0.5)\n",
      "Requirement already satisfied: executing in c:\\users\\user\\anaconda3\\envs\\ml\\lib\\site-packages (from stack-data->IPython->import_ipynb) (0.8.3)\n",
      "Requirement already satisfied: pure-eval in c:\\users\\user\\anaconda3\\envs\\ml\\lib\\site-packages (from stack-data->IPython->import_ipynb) (0.2.2)\n",
      "Requirement already satisfied: zipp>=3.1.0 in c:\\users\\user\\anaconda3\\envs\\ml\\lib\\site-packages (from importlib-resources>=1.4.0->jsonschema>=2.6->nbformat->import_ipynb) (3.8.0)\n",
      "Requirement already satisfied: six in c:\\users\\user\\anaconda3\\envs\\ml\\lib\\site-packages (from asttokens->stack-data->IPython->import_ipynb) (1.16.0)\n"
     ]
    },
    {
     "name": "stderr",
     "output_type": "stream",
     "text": [
      "WARNING: Ignoring invalid distribution -mpy (c:\\users\\user\\anaconda3\\envs\\ml\\lib\\site-packages)\n",
      "WARNING: Ignoring invalid distribution -umpy (c:\\users\\user\\anaconda3\\envs\\ml\\lib\\site-packages)\n",
      "WARNING: Ignoring invalid distribution - (c:\\users\\user\\anaconda3\\envs\\ml\\lib\\site-packages)\n",
      "WARNING: Ignoring invalid distribution -ensorboard (c:\\users\\user\\anaconda3\\envs\\ml\\lib\\site-packages)\n",
      "WARNING: Ignoring invalid distribution -mpy (c:\\users\\user\\anaconda3\\envs\\ml\\lib\\site-packages)\n",
      "WARNING: Ignoring invalid distribution -umpy (c:\\users\\user\\anaconda3\\envs\\ml\\lib\\site-packages)\n",
      "WARNING: Ignoring invalid distribution - (c:\\users\\user\\anaconda3\\envs\\ml\\lib\\site-packages)\n",
      "WARNING: Ignoring invalid distribution -ensorboard (c:\\users\\user\\anaconda3\\envs\\ml\\lib\\site-packages)\n",
      "WARNING: Ignoring invalid distribution -mpy (c:\\users\\user\\anaconda3\\envs\\ml\\lib\\site-packages)\n",
      "WARNING: Ignoring invalid distribution -umpy (c:\\users\\user\\anaconda3\\envs\\ml\\lib\\site-packages)\n",
      "WARNING: Ignoring invalid distribution - (c:\\users\\user\\anaconda3\\envs\\ml\\lib\\site-packages)\n",
      "WARNING: Ignoring invalid distribution -ensorboard (c:\\users\\user\\anaconda3\\envs\\ml\\lib\\site-packages)\n",
      "WARNING: Ignoring invalid distribution -mpy (c:\\users\\user\\anaconda3\\envs\\ml\\lib\\site-packages)\n",
      "WARNING: Ignoring invalid distribution -umpy (c:\\users\\user\\anaconda3\\envs\\ml\\lib\\site-packages)\n",
      "WARNING: Ignoring invalid distribution - (c:\\users\\user\\anaconda3\\envs\\ml\\lib\\site-packages)\n",
      "WARNING: Ignoring invalid distribution -ensorboard (c:\\users\\user\\anaconda3\\envs\\ml\\lib\\site-packages)\n",
      "WARNING: Ignoring invalid distribution -mpy (c:\\users\\user\\anaconda3\\envs\\ml\\lib\\site-packages)\n",
      "WARNING: Ignoring invalid distribution -umpy (c:\\users\\user\\anaconda3\\envs\\ml\\lib\\site-packages)\n",
      "WARNING: Ignoring invalid distribution - (c:\\users\\user\\anaconda3\\envs\\ml\\lib\\site-packages)\n",
      "WARNING: Ignoring invalid distribution -ensorboard (c:\\users\\user\\anaconda3\\envs\\ml\\lib\\site-packages)\n",
      "WARNING: Ignoring invalid distribution -mpy (c:\\users\\user\\anaconda3\\envs\\ml\\lib\\site-packages)\n",
      "WARNING: Ignoring invalid distribution -umpy (c:\\users\\user\\anaconda3\\envs\\ml\\lib\\site-packages)\n",
      "WARNING: Ignoring invalid distribution - (c:\\users\\user\\anaconda3\\envs\\ml\\lib\\site-packages)\n",
      "WARNING: Ignoring invalid distribution -ensorboard (c:\\users\\user\\anaconda3\\envs\\ml\\lib\\site-packages)\n"
     ]
    }
   ],
   "source": [
    "!pip install import_ipynb"
   ]
  },
  {
   "cell_type": "code",
   "execution_count": 2,
   "metadata": {
    "colab": {
     "base_uri": "https://localhost:8080/"
    },
    "executionInfo": {
     "elapsed": 25835,
     "status": "ok",
     "timestamp": 1666100610367,
     "user": {
      "displayName": "김동규",
      "userId": "00781962647797002728"
     },
     "user_tz": -540
    },
    "id": "AepOH4PiLhPQ",
    "outputId": "cba934c7-8ad6-4f2b-dee2-99c8210e771f"
   },
   "outputs": [],
   "source": [
    "#from google.colab import drive\n",
    "#drive.mount('/content/gdrive')"
   ]
  },
  {
   "cell_type": "code",
   "execution_count": 3,
   "metadata": {
    "colab": {
     "base_uri": "https://localhost:8080/"
    },
    "executionInfo": {
     "elapsed": 27,
     "status": "ok",
     "timestamp": 1666100705016,
     "user": {
      "displayName": "김동규",
      "userId": "00781962647797002728"
     },
     "user_tz": -540
    },
    "id": "L8VsRsdbVStH",
    "outputId": "650abc24-705c-43da-b084-c9ce22df2573"
   },
   "outputs": [],
   "source": [
    "#%cd /content/gdrive/MyDrive/Colab Notebooks/OUTTA\n",
    "#!ls"
   ]
  },
  {
   "cell_type": "code",
   "execution_count": 4,
   "metadata": {
    "colab": {
     "base_uri": "https://localhost:8080/",
     "height": 1000
    },
    "executionInfo": {
     "elapsed": 9778,
     "status": "error",
     "timestamp": 1666100753143,
     "user": {
      "displayName": "김동규",
      "userId": "00781962647797002728"
     },
     "user_tz": -540
    },
    "id": "nTqcsIWyfqLQ",
    "outputId": "e9e3cc95-be40-4087-e4df-d7cd7fd12ab4"
   },
   "outputs": [
    {
     "name": "stdout",
     "output_type": "stream",
     "text": [
      "importing Jupyter notebook from nlp_Preproc_final.ipynb\n",
      "Requirement already satisfied: mxnet in c:\\users\\user\\anaconda3\\envs\\ml\\lib\\site-packages (1.7.0.post2)\n",
      "Collecting numpy<1.17.0,>=1.8.2\n",
      "  Using cached numpy-1.16.6-cp38-cp38-win_amd64.whl\n",
      "Requirement already satisfied: requests<2.19.0,>=2.18.4 in c:\\users\\user\\anaconda3\\envs\\ml\\lib\\site-packages (from mxnet) (2.18.4)\n",
      "Requirement already satisfied: graphviz<0.9.0,>=0.8.1 in c:\\users\\user\\anaconda3\\envs\\ml\\lib\\site-packages (from mxnet) (0.8.4)\n",
      "Requirement already satisfied: certifi>=2017.4.17 in c:\\users\\user\\anaconda3\\envs\\ml\\lib\\site-packages (from requests<2.19.0,>=2.18.4->mxnet) (2022.6.15)\n",
      "Requirement already satisfied: urllib3<1.23,>=1.21.1 in c:\\users\\user\\anaconda3\\envs\\ml\\lib\\site-packages (from requests<2.19.0,>=2.18.4->mxnet) (1.22)\n",
      "Requirement already satisfied: idna<2.7,>=2.5 in c:\\users\\user\\anaconda3\\envs\\ml\\lib\\site-packages (from requests<2.19.0,>=2.18.4->mxnet) (2.6)\n",
      "Requirement already satisfied: chardet<3.1.0,>=3.0.2 in c:\\users\\user\\anaconda3\\envs\\ml\\lib\\site-packages (from requests<2.19.0,>=2.18.4->mxnet) (3.0.4)\n",
      "Installing collected packages: numpy\n",
      "  Attempting uninstall: numpy\n",
      "    Found existing installation: numpy 1.23.4"
     ]
    },
    {
     "name": "stderr",
     "output_type": "stream",
     "text": [
      "WARNING: Ignoring invalid distribution -mpy (c:\\users\\user\\anaconda3\\envs\\ml\\lib\\site-packages)\n",
      "WARNING: Ignoring invalid distribution -umpy (c:\\users\\user\\anaconda3\\envs\\ml\\lib\\site-packages)\n",
      "WARNING: Ignoring invalid distribution - (c:\\users\\user\\anaconda3\\envs\\ml\\lib\\site-packages)\n",
      "WARNING: Ignoring invalid distribution -ensorboard (c:\\users\\user\\anaconda3\\envs\\ml\\lib\\site-packages)\n",
      "WARNING: Ignoring invalid distribution -mpy (c:\\users\\user\\anaconda3\\envs\\ml\\lib\\site-packages)\n",
      "WARNING: Ignoring invalid distribution -umpy (c:\\users\\user\\anaconda3\\envs\\ml\\lib\\site-packages)\n",
      "WARNING: Ignoring invalid distribution - (c:\\users\\user\\anaconda3\\envs\\ml\\lib\\site-packages)\n",
      "WARNING: Ignoring invalid distribution -ensorboard (c:\\users\\user\\anaconda3\\envs\\ml\\lib\\site-packages)\n",
      "WARNING: Ignoring invalid distribution -mpy (c:\\users\\user\\anaconda3\\envs\\ml\\lib\\site-packages)\n",
      "WARNING: Ignoring invalid distribution -umpy (c:\\users\\user\\anaconda3\\envs\\ml\\lib\\site-packages)\n",
      "WARNING: Ignoring invalid distribution - (c:\\users\\user\\anaconda3\\envs\\ml\\lib\\site-packages)\n",
      "WARNING: Ignoring invalid distribution -ensorboard (c:\\users\\user\\anaconda3\\envs\\ml\\lib\\site-packages)\n",
      "    WARNING: Ignoring invalid distribution -mpy (c:\\users\\user\\anaconda3\\envs\\ml\\lib\\site-packages)\n",
      "    WARNING: Ignoring invalid distribution -umpy (c:\\users\\user\\anaconda3\\envs\\ml\\lib\\site-packages)\n",
      "    WARNING: Ignoring invalid distribution - (c:\\users\\user\\anaconda3\\envs\\ml\\lib\\site-packages)\n",
      "    WARNING: Ignoring invalid distribution -ensorboard (c:\\users\\user\\anaconda3\\envs\\ml\\lib\\site-packages)\n",
      "WARNING: Ignoring invalid distribution -mpy (c:\\users\\user\\anaconda3\\envs\\ml\\lib\\site-packages)\n",
      "WARNING: Ignoring invalid distribution -umpy (c:\\users\\user\\anaconda3\\envs\\ml\\lib\\site-packages)\n",
      "WARNING: Ignoring invalid distribution - (c:\\users\\user\\anaconda3\\envs\\ml\\lib\\site-packages)\n",
      "WARNING: Ignoring invalid distribution -ensorboard (c:\\users\\user\\anaconda3\\envs\\ml\\lib\\site-packages)\n",
      "ERROR: pip's dependency resolver does not currently take into account all the packages that are installed. This behaviour is the source of the following dependency conflicts.\n",
      "xarray 0.20.1 requires numpy>=1.18, but you have numpy 1.16.6 which is incompatible.\n",
      "tensorflow 2.9.1 requires numpy>=1.20, but you have numpy 1.16.6 which is incompatible.\n",
      "tensorflow 2.9.1 requires tensorboard<2.10,>=2.9, but you have tensorboard 2.10.0 which is incompatible.\n",
      "tensorboard 2.10.0 requires requests<3,>=2.21.0, but you have requests 2.18.4 which is incompatible.\n",
      "seaborn 0.12.0 requires numpy>=1.17, but you have numpy 1.16.6 which is incompatible.\n",
      "scikit-learn 1.1.1 requires numpy>=1.17.3, but you have numpy 1.16.6 which is incompatible.\n",
      "pandas 1.4.3 requires numpy>=1.18.5; platform_machine != \"aarch64\" and platform_machine != \"arm64\" and python_version < \"3.10\", but you have numpy 1.16.6 which is incompatible.\n",
      "numba 0.55.1 requires numpy<1.22,>=1.18, but you have numpy 1.16.6 which is incompatible.\n",
      "mygrad 2.1.0 requires numpy>=1.19, but you have numpy 1.16.6 which is incompatible.\n",
      "matplotlib 3.5.1 requires numpy>=1.17, but you have numpy 1.16.6 which is incompatible.\n",
      "WARNING: Ignoring invalid distribution -mpy (c:\\users\\user\\anaconda3\\envs\\ml\\lib\\site-packages)\n",
      "WARNING: Ignoring invalid distribution -umpy (c:\\users\\user\\anaconda3\\envs\\ml\\lib\\site-packages)\n",
      "WARNING: Ignoring invalid distribution - (c:\\users\\user\\anaconda3\\envs\\ml\\lib\\site-packages)\n",
      "WARNING: Ignoring invalid distribution -ensorboard (c:\\users\\user\\anaconda3\\envs\\ml\\lib\\site-packages)\n",
      "WARNING: Ignoring invalid distribution -mpy (c:\\users\\user\\anaconda3\\envs\\ml\\lib\\site-packages)\n",
      "WARNING: Ignoring invalid distribution -umpy (c:\\users\\user\\anaconda3\\envs\\ml\\lib\\site-packages)\n",
      "WARNING: Ignoring invalid distribution - (c:\\users\\user\\anaconda3\\envs\\ml\\lib\\site-packages)\n",
      "WARNING: Ignoring invalid distribution -ensorboard (c:\\users\\user\\anaconda3\\envs\\ml\\lib\\site-packages)\n",
      "WARNING: Ignoring invalid distribution -mpy (c:\\users\\user\\anaconda3\\envs\\ml\\lib\\site-packages)\n",
      "WARNING: Ignoring invalid distribution -umpy (c:\\users\\user\\anaconda3\\envs\\ml\\lib\\site-packages)\n",
      "WARNING: Ignoring invalid distribution - (c:\\users\\user\\anaconda3\\envs\\ml\\lib\\site-packages)\n",
      "WARNING: Ignoring invalid distribution -ensorboard (c:\\users\\user\\anaconda3\\envs\\ml\\lib\\site-packages)\n"
     ]
    },
    {
     "name": "stdout",
     "output_type": "stream",
     "text": [
      "\n",
      "    Uninstalling numpy-1.23.4:\n",
      "      Successfully uninstalled numpy-1.23.4\n",
      "Successfully installed numpy-1.16.6\n",
      "Requirement already satisfied: gluonnlp in c:\\users\\user\\anaconda3\\envs\\ml\\lib\\site-packages (0.10.0)"
     ]
    },
    {
     "name": "stderr",
     "output_type": "stream",
     "text": [
      "WARNING: Ignoring invalid distribution -mpy (c:\\users\\user\\anaconda3\\envs\\ml\\lib\\site-packages)\n",
      "WARNING: Ignoring invalid distribution -umpy (c:\\users\\user\\anaconda3\\envs\\ml\\lib\\site-packages)\n",
      "WARNING: Ignoring invalid distribution - (c:\\users\\user\\anaconda3\\envs\\ml\\lib\\site-packages)\n",
      "WARNING: Ignoring invalid distribution -ensorboard (c:\\users\\user\\anaconda3\\envs\\ml\\lib\\site-packages)\n",
      "WARNING: Ignoring invalid distribution -mpy (c:\\users\\user\\anaconda3\\envs\\ml\\lib\\site-packages)\n",
      "WARNING: Ignoring invalid distribution -umpy (c:\\users\\user\\anaconda3\\envs\\ml\\lib\\site-packages)\n",
      "WARNING: Ignoring invalid distribution - (c:\\users\\user\\anaconda3\\envs\\ml\\lib\\site-packages)\n",
      "WARNING: Ignoring invalid distribution -ensorboard (c:\\users\\user\\anaconda3\\envs\\ml\\lib\\site-packages)\n",
      "WARNING: Ignoring invalid distribution -mpy (c:\\users\\user\\anaconda3\\envs\\ml\\lib\\site-packages)\n",
      "WARNING: Ignoring invalid distribution -umpy (c:\\users\\user\\anaconda3\\envs\\ml\\lib\\site-packages)\n",
      "WARNING: Ignoring invalid distribution - (c:\\users\\user\\anaconda3\\envs\\ml\\lib\\site-packages)\n",
      "WARNING: Ignoring invalid distribution -ensorboard (c:\\users\\user\\anaconda3\\envs\\ml\\lib\\site-packages)\n",
      "    WARNING: Ignoring invalid distribution -mpy (c:\\users\\user\\anaconda3\\envs\\ml\\lib\\site-packages)\n",
      "    WARNING: Ignoring invalid distribution -umpy (c:\\users\\user\\anaconda3\\envs\\ml\\lib\\site-packages)\n",
      "    WARNING: Ignoring invalid distribution - (c:\\users\\user\\anaconda3\\envs\\ml\\lib\\site-packages)\n",
      "    WARNING: Ignoring invalid distribution -ensorboard (c:\\users\\user\\anaconda3\\envs\\ml\\lib\\site-packages)\n",
      "WARNING: Ignoring invalid distribution -mpy (c:\\users\\user\\anaconda3\\envs\\ml\\lib\\site-packages)\n",
      "WARNING: Ignoring invalid distribution -umpy (c:\\users\\user\\anaconda3\\envs\\ml\\lib\\site-packages)\n",
      "WARNING: Ignoring invalid distribution - (c:\\users\\user\\anaconda3\\envs\\ml\\lib\\site-packages)\n",
      "WARNING: Ignoring invalid distribution -ensorboard (c:\\users\\user\\anaconda3\\envs\\ml\\lib\\site-packages)\n",
      "ERROR: pip's dependency resolver does not currently take into account all the packages that are installed. This behaviour is the source of the following dependency conflicts.\n",
      "tensorflow 2.9.1 requires tensorboard<2.10,>=2.9, but you have tensorboard 2.10.0 which is incompatible.\n",
      "tensorboard 2.10.0 requires requests<3,>=2.21.0, but you have requests 2.18.4 which is incompatible.\n",
      "scipy 1.7.3 requires numpy<1.23.0,>=1.16.5, but you have numpy 1.23.4 which is incompatible.\n",
      "numba 0.55.1 requires numpy<1.22,>=1.18, but you have numpy 1.23.4 which is incompatible.\n",
      "mxnet 1.7.0.post2 requires numpy<1.17.0,>=1.8.2, but you have numpy 1.23.4 which is incompatible.\n",
      "WARNING: Ignoring invalid distribution -mpy (c:\\users\\user\\anaconda3\\envs\\ml\\lib\\site-packages)\n",
      "WARNING: Ignoring invalid distribution -umpy (c:\\users\\user\\anaconda3\\envs\\ml\\lib\\site-packages)\n",
      "WARNING: Ignoring invalid distribution - (c:\\users\\user\\anaconda3\\envs\\ml\\lib\\site-packages)\n",
      "WARNING: Ignoring invalid distribution -ensorboard (c:\\users\\user\\anaconda3\\envs\\ml\\lib\\site-packages)\n",
      "WARNING: Ignoring invalid distribution -mpy (c:\\users\\user\\anaconda3\\envs\\ml\\lib\\site-packages)\n",
      "WARNING: Ignoring invalid distribution -umpy (c:\\users\\user\\anaconda3\\envs\\ml\\lib\\site-packages)\n",
      "WARNING: Ignoring invalid distribution - (c:\\users\\user\\anaconda3\\envs\\ml\\lib\\site-packages)\n",
      "WARNING: Ignoring invalid distribution -ensorboard (c:\\users\\user\\anaconda3\\envs\\ml\\lib\\site-packages)\n",
      "WARNING: Ignoring invalid distribution -mpy (c:\\users\\user\\anaconda3\\envs\\ml\\lib\\site-packages)\n",
      "WARNING: Ignoring invalid distribution -umpy (c:\\users\\user\\anaconda3\\envs\\ml\\lib\\site-packages)\n",
      "WARNING: Ignoring invalid distribution - (c:\\users\\user\\anaconda3\\envs\\ml\\lib\\site-packages)\n",
      "WARNING: Ignoring invalid distribution -ensorboard (c:\\users\\user\\anaconda3\\envs\\ml\\lib\\site-packages)\n"
     ]
    },
    {
     "name": "stdout",
     "output_type": "stream",
     "text": [
      "\n",
      "Requirement already satisfied: pandas in c:\\users\\user\\anaconda3\\envs\\ml\\lib\\site-packages (1.4.3)\n",
      "Requirement already satisfied: tqdm in c:\\users\\user\\anaconda3\\envs\\ml\\lib\\site-packages (4.64.0)\n",
      "Requirement already satisfied: cython in c:\\users\\user\\anaconda3\\envs\\ml\\lib\\site-packages (from gluonnlp) (0.29.32)\n",
      "Requirement already satisfied: numpy>=1.16.0 in c:\\users\\user\\anaconda3\\envs\\ml\\lib\\site-packages (from gluonnlp) (1.16.6)\n",
      "Requirement already satisfied: packaging in c:\\users\\user\\anaconda3\\envs\\ml\\lib\\site-packages (from gluonnlp) (21.3)\n",
      "Collecting numpy>=1.16.0\n",
      "  Using cached numpy-1.23.4-cp38-cp38-win_amd64.whl (14.7 MB)\n",
      "Requirement already satisfied: pytz>=2020.1 in c:\\users\\user\\anaconda3\\envs\\ml\\lib\\site-packages (from pandas) (2022.1)\n",
      "Requirement already satisfied: python-dateutil>=2.8.1 in c:\\users\\user\\anaconda3\\envs\\ml\\lib\\site-packages (from pandas) (2.8.2)\n",
      "Requirement already satisfied: colorama in c:\\users\\user\\anaconda3\\envs\\ml\\lib\\site-packages (from tqdm) (0.4.5)\n",
      "Requirement already satisfied: six>=1.5 in c:\\users\\user\\anaconda3\\envs\\ml\\lib\\site-packages (from python-dateutil>=2.8.1->pandas) (1.16.0)\n",
      "Requirement already satisfied: pyparsing!=3.0.5,>=2.0.2 in c:\\users\\user\\anaconda3\\envs\\ml\\lib\\site-packages (from packaging->gluonnlp) (3.0.4)\n",
      "Installing collected packages: numpy\n",
      "  Attempting uninstall: numpy\n",
      "    Found existing installation: numpy 1.16.6\n",
      "    Uninstalling numpy-1.16.6:\n",
      "      Successfully uninstalled numpy-1.16.6\n",
      "Successfully installed numpy-1.23.4\n",
      "Requirement already satisfied: sentencepiece in c:\\users\\user\\anaconda3\\envs\\ml\\lib\\site-packages (0.1.97)\n"
     ]
    },
    {
     "name": "stderr",
     "output_type": "stream",
     "text": [
      "WARNING: Ignoring invalid distribution -mpy (c:\\users\\user\\anaconda3\\envs\\ml\\lib\\site-packages)\n",
      "WARNING: Ignoring invalid distribution -umpy (c:\\users\\user\\anaconda3\\envs\\ml\\lib\\site-packages)\n",
      "WARNING: Ignoring invalid distribution - (c:\\users\\user\\anaconda3\\envs\\ml\\lib\\site-packages)\n",
      "WARNING: Ignoring invalid distribution -ensorboard (c:\\users\\user\\anaconda3\\envs\\ml\\lib\\site-packages)\n",
      "WARNING: Ignoring invalid distribution -mpy (c:\\users\\user\\anaconda3\\envs\\ml\\lib\\site-packages)\n",
      "WARNING: Ignoring invalid distribution -umpy (c:\\users\\user\\anaconda3\\envs\\ml\\lib\\site-packages)\n",
      "WARNING: Ignoring invalid distribution - (c:\\users\\user\\anaconda3\\envs\\ml\\lib\\site-packages)\n",
      "WARNING: Ignoring invalid distribution -ensorboard (c:\\users\\user\\anaconda3\\envs\\ml\\lib\\site-packages)\n",
      "WARNING: Ignoring invalid distribution -mpy (c:\\users\\user\\anaconda3\\envs\\ml\\lib\\site-packages)\n",
      "WARNING: Ignoring invalid distribution -umpy (c:\\users\\user\\anaconda3\\envs\\ml\\lib\\site-packages)\n",
      "WARNING: Ignoring invalid distribution - (c:\\users\\user\\anaconda3\\envs\\ml\\lib\\site-packages)\n",
      "WARNING: Ignoring invalid distribution -ensorboard (c:\\users\\user\\anaconda3\\envs\\ml\\lib\\site-packages)\n",
      "WARNING: Ignoring invalid distribution -mpy (c:\\users\\user\\anaconda3\\envs\\ml\\lib\\site-packages)\n",
      "WARNING: Ignoring invalid distribution -umpy (c:\\users\\user\\anaconda3\\envs\\ml\\lib\\site-packages)\n",
      "WARNING: Ignoring invalid distribution - (c:\\users\\user\\anaconda3\\envs\\ml\\lib\\site-packages)\n",
      "WARNING: Ignoring invalid distribution -ensorboard (c:\\users\\user\\anaconda3\\envs\\ml\\lib\\site-packages)\n",
      "WARNING: Ignoring invalid distribution -mpy (c:\\users\\user\\anaconda3\\envs\\ml\\lib\\site-packages)\n",
      "WARNING: Ignoring invalid distribution -umpy (c:\\users\\user\\anaconda3\\envs\\ml\\lib\\site-packages)\n",
      "WARNING: Ignoring invalid distribution - (c:\\users\\user\\anaconda3\\envs\\ml\\lib\\site-packages)\n",
      "WARNING: Ignoring invalid distribution -ensorboard (c:\\users\\user\\anaconda3\\envs\\ml\\lib\\site-packages)\n",
      "WARNING: Ignoring invalid distribution -mpy (c:\\users\\user\\anaconda3\\envs\\ml\\lib\\site-packages)\n",
      "WARNING: Ignoring invalid distribution -umpy (c:\\users\\user\\anaconda3\\envs\\ml\\lib\\site-packages)\n",
      "WARNING: Ignoring invalid distribution - (c:\\users\\user\\anaconda3\\envs\\ml\\lib\\site-packages)\n",
      "WARNING: Ignoring invalid distribution -ensorboard (c:\\users\\user\\anaconda3\\envs\\ml\\lib\\site-packages)\n"
     ]
    },
    {
     "name": "stdout",
     "output_type": "stream",
     "text": [
      "Requirement already satisfied: transformers==3.0.2 in c:\\users\\user\\anaconda3\\envs\\ml\\lib\\site-packages (3.0.2)\n",
      "Requirement already satisfied: numpy in c:\\users\\user\\anaconda3\\envs\\ml\\lib\\site-packages (from transformers==3.0.2) (1.23.4)\n",
      "Requirement already satisfied: sacremoses in c:\\users\\user\\anaconda3\\envs\\ml\\lib\\site-packages (from transformers==3.0.2) (0.0.53)\n",
      "Requirement already satisfied: sentencepiece!=0.1.92 in c:\\users\\user\\anaconda3\\envs\\ml\\lib\\site-packages (from transformers==3.0.2) (0.1.97)\n",
      "Requirement already satisfied: packaging in c:\\users\\user\\anaconda3\\envs\\ml\\lib\\site-packages (from transformers==3.0.2) (21.3)\n",
      "Requirement already satisfied: filelock in c:\\users\\user\\anaconda3\\envs\\ml\\lib\\site-packages (from transformers==3.0.2) (3.8.0)\n",
      "Requirement already satisfied: requests in c:\\users\\user\\anaconda3\\envs\\ml\\lib\\site-packages (from transformers==3.0.2) (2.18.4)\n",
      "Requirement already satisfied: tqdm>=4.27 in c:\\users\\user\\anaconda3\\envs\\ml\\lib\\site-packages (from transformers==3.0.2) (4.64.0)\n",
      "Requirement already satisfied: tokenizers==0.8.1.rc1 in c:\\users\\user\\anaconda3\\envs\\ml\\lib\\site-packages (from transformers==3.0.2) (0.8.1rc1)\n",
      "Requirement already satisfied: regex!=2019.12.17 in c:\\users\\user\\anaconda3\\envs\\ml\\lib\\site-packages (from transformers==3.0.2) (2022.7.25)\n",
      "Requirement already satisfied: colorama in c:\\users\\user\\anaconda3\\envs\\ml\\lib\\site-packages (from tqdm>=4.27->transformers==3.0.2) (0.4.5)\n",
      "Requirement already satisfied: pyparsing!=3.0.5,>=2.0.2 in c:\\users\\user\\anaconda3\\envs\\ml\\lib\\site-packages (from packaging->transformers==3.0.2) (3.0.4)\n",
      "Requirement already satisfied: idna<2.7,>=2.5 in c:\\users\\user\\anaconda3\\envs\\ml\\lib\\site-packages (from requests->transformers==3.0.2) (2.6)\n",
      "Requirement already satisfied: certifi>=2017.4.17 in c:\\users\\user\\anaconda3\\envs\\ml\\lib\\site-packages (from requests->transformers==3.0.2) (2022.6.15)\n",
      "Requirement already satisfied: urllib3<1.23,>=1.21.1 in c:\\users\\user\\anaconda3\\envs\\ml\\lib\\site-packages (from requests->transformers==3.0.2) (1.22)\n",
      "Requirement already satisfied: chardet<3.1.0,>=3.0.2 in c:\\users\\user\\anaconda3\\envs\\ml\\lib\\site-packages (from requests->transformers==3.0.2) (3.0.4)\n",
      "Requirement already satisfied: click in c:\\users\\user\\anaconda3\\envs\\ml\\lib\\site-packages (from sacremoses->transformers==3.0.2) (8.0.4)\n",
      "Requirement already satisfied: six in c:\\users\\user\\anaconda3\\envs\\ml\\lib\\site-packages (from sacremoses->transformers==3.0.2) (1.16.0)\n",
      "Requirement already satisfied: joblib in c:\\users\\user\\anaconda3\\envs\\ml\\lib\\site-packages (from sacremoses->transformers==3.0.2) (1.1.0)\n"
     ]
    },
    {
     "name": "stderr",
     "output_type": "stream",
     "text": [
      "WARNING: Ignoring invalid distribution -mpy (c:\\users\\user\\anaconda3\\envs\\ml\\lib\\site-packages)\n",
      "WARNING: Ignoring invalid distribution -umpy (c:\\users\\user\\anaconda3\\envs\\ml\\lib\\site-packages)\n",
      "WARNING: Ignoring invalid distribution - (c:\\users\\user\\anaconda3\\envs\\ml\\lib\\site-packages)\n",
      "WARNING: Ignoring invalid distribution -ensorboard (c:\\users\\user\\anaconda3\\envs\\ml\\lib\\site-packages)\n",
      "WARNING: Ignoring invalid distribution -mpy (c:\\users\\user\\anaconda3\\envs\\ml\\lib\\site-packages)\n",
      "WARNING: Ignoring invalid distribution -umpy (c:\\users\\user\\anaconda3\\envs\\ml\\lib\\site-packages)\n",
      "WARNING: Ignoring invalid distribution - (c:\\users\\user\\anaconda3\\envs\\ml\\lib\\site-packages)\n",
      "WARNING: Ignoring invalid distribution -ensorboard (c:\\users\\user\\anaconda3\\envs\\ml\\lib\\site-packages)\n",
      "WARNING: Ignoring invalid distribution -mpy (c:\\users\\user\\anaconda3\\envs\\ml\\lib\\site-packages)\n",
      "WARNING: Ignoring invalid distribution -umpy (c:\\users\\user\\anaconda3\\envs\\ml\\lib\\site-packages)\n",
      "WARNING: Ignoring invalid distribution - (c:\\users\\user\\anaconda3\\envs\\ml\\lib\\site-packages)\n",
      "WARNING: Ignoring invalid distribution -ensorboard (c:\\users\\user\\anaconda3\\envs\\ml\\lib\\site-packages)\n",
      "WARNING: Ignoring invalid distribution -mpy (c:\\users\\user\\anaconda3\\envs\\ml\\lib\\site-packages)\n",
      "WARNING: Ignoring invalid distribution -umpy (c:\\users\\user\\anaconda3\\envs\\ml\\lib\\site-packages)\n",
      "WARNING: Ignoring invalid distribution - (c:\\users\\user\\anaconda3\\envs\\ml\\lib\\site-packages)\n",
      "WARNING: Ignoring invalid distribution -ensorboard (c:\\users\\user\\anaconda3\\envs\\ml\\lib\\site-packages)\n",
      "WARNING: Ignoring invalid distribution -mpy (c:\\users\\user\\anaconda3\\envs\\ml\\lib\\site-packages)\n",
      "WARNING: Ignoring invalid distribution -umpy (c:\\users\\user\\anaconda3\\envs\\ml\\lib\\site-packages)\n",
      "WARNING: Ignoring invalid distribution - (c:\\users\\user\\anaconda3\\envs\\ml\\lib\\site-packages)\n",
      "WARNING: Ignoring invalid distribution -ensorboard (c:\\users\\user\\anaconda3\\envs\\ml\\lib\\site-packages)\n",
      "WARNING: Ignoring invalid distribution -mpy (c:\\users\\user\\anaconda3\\envs\\ml\\lib\\site-packages)\n",
      "WARNING: Ignoring invalid distribution -umpy (c:\\users\\user\\anaconda3\\envs\\ml\\lib\\site-packages)\n",
      "WARNING: Ignoring invalid distribution - (c:\\users\\user\\anaconda3\\envs\\ml\\lib\\site-packages)\n",
      "WARNING: Ignoring invalid distribution -ensorboard (c:\\users\\user\\anaconda3\\envs\\ml\\lib\\site-packages)\n"
     ]
    },
    {
     "name": "stdout",
     "output_type": "stream",
     "text": [
      "Requirement already satisfied: torch in c:\\users\\user\\anaconda3\\envs\\ml\\lib\\site-packages (1.12.1)\n",
      "Requirement already satisfied: typing_extensions in c:\\users\\user\\anaconda3\\envs\\ml\\lib\\site-packages (from torch) (4.3.0)\n"
     ]
    },
    {
     "name": "stderr",
     "output_type": "stream",
     "text": [
      "WARNING: Ignoring invalid distribution -mpy (c:\\users\\user\\anaconda3\\envs\\ml\\lib\\site-packages)\n",
      "WARNING: Ignoring invalid distribution -umpy (c:\\users\\user\\anaconda3\\envs\\ml\\lib\\site-packages)\n",
      "WARNING: Ignoring invalid distribution - (c:\\users\\user\\anaconda3\\envs\\ml\\lib\\site-packages)\n",
      "WARNING: Ignoring invalid distribution -ensorboard (c:\\users\\user\\anaconda3\\envs\\ml\\lib\\site-packages)\n",
      "WARNING: Ignoring invalid distribution -mpy (c:\\users\\user\\anaconda3\\envs\\ml\\lib\\site-packages)\n",
      "WARNING: Ignoring invalid distribution -umpy (c:\\users\\user\\anaconda3\\envs\\ml\\lib\\site-packages)\n",
      "WARNING: Ignoring invalid distribution - (c:\\users\\user\\anaconda3\\envs\\ml\\lib\\site-packages)\n",
      "WARNING: Ignoring invalid distribution -ensorboard (c:\\users\\user\\anaconda3\\envs\\ml\\lib\\site-packages)\n",
      "WARNING: Ignoring invalid distribution -mpy (c:\\users\\user\\anaconda3\\envs\\ml\\lib\\site-packages)\n",
      "WARNING: Ignoring invalid distribution -umpy (c:\\users\\user\\anaconda3\\envs\\ml\\lib\\site-packages)\n",
      "WARNING: Ignoring invalid distribution - (c:\\users\\user\\anaconda3\\envs\\ml\\lib\\site-packages)\n",
      "WARNING: Ignoring invalid distribution -ensorboard (c:\\users\\user\\anaconda3\\envs\\ml\\lib\\site-packages)\n",
      "WARNING: Ignoring invalid distribution -mpy (c:\\users\\user\\anaconda3\\envs\\ml\\lib\\site-packages)\n",
      "WARNING: Ignoring invalid distribution -umpy (c:\\users\\user\\anaconda3\\envs\\ml\\lib\\site-packages)\n",
      "WARNING: Ignoring invalid distribution - (c:\\users\\user\\anaconda3\\envs\\ml\\lib\\site-packages)\n",
      "WARNING: Ignoring invalid distribution -ensorboard (c:\\users\\user\\anaconda3\\envs\\ml\\lib\\site-packages)\n",
      "WARNING: Ignoring invalid distribution -mpy (c:\\users\\user\\anaconda3\\envs\\ml\\lib\\site-packages)\n",
      "WARNING: Ignoring invalid distribution -umpy (c:\\users\\user\\anaconda3\\envs\\ml\\lib\\site-packages)\n",
      "WARNING: Ignoring invalid distribution - (c:\\users\\user\\anaconda3\\envs\\ml\\lib\\site-packages)\n",
      "WARNING: Ignoring invalid distribution -ensorboard (c:\\users\\user\\anaconda3\\envs\\ml\\lib\\site-packages)\n",
      "WARNING: Ignoring invalid distribution -mpy (c:\\users\\user\\anaconda3\\envs\\ml\\lib\\site-packages)\n",
      "WARNING: Ignoring invalid distribution -umpy (c:\\users\\user\\anaconda3\\envs\\ml\\lib\\site-packages)\n",
      "WARNING: Ignoring invalid distribution - (c:\\users\\user\\anaconda3\\envs\\ml\\lib\\site-packages)\n",
      "WARNING: Ignoring invalid distribution -ensorboard (c:\\users\\user\\anaconda3\\envs\\ml\\lib\\site-packages)\n",
      "C:\\Users\\user\\anaconda3\\envs\\ml\\lib\\site-packages\\scipy\\__init__.py:146: UserWarning: A NumPy version >=1.16.5 and <1.23.0 is required for this version of SciPy (detected version 1.23.4\n",
      "  warnings.warn(f\"A NumPy version >={np_minversion} and <{np_maxversion}\"\n"
     ]
    },
    {
     "name": "stdout",
     "output_type": "stream",
     "text": [
      "2.9.1\n"
     ]
    },
    {
     "name": "stderr",
     "output_type": "stream",
     "text": [
      "WARNING: Ignoring invalid distribution -mpy (c:\\users\\user\\anaconda3\\envs\\ml\\lib\\site-packages)\n",
      "WARNING: Ignoring invalid distribution -umpy (c:\\users\\user\\anaconda3\\envs\\ml\\lib\\site-packages)\n",
      "WARNING: Ignoring invalid distribution - (c:\\users\\user\\anaconda3\\envs\\ml\\lib\\site-packages)\n",
      "WARNING: Ignoring invalid distribution -ensorboard (c:\\users\\user\\anaconda3\\envs\\ml\\lib\\site-packages)\n",
      "WARNING: Ignoring invalid distribution -mpy (c:\\users\\user\\anaconda3\\envs\\ml\\lib\\site-packages)\n",
      "WARNING: Ignoring invalid distribution -umpy (c:\\users\\user\\anaconda3\\envs\\ml\\lib\\site-packages)\n",
      "WARNING: Ignoring invalid distribution - (c:\\users\\user\\anaconda3\\envs\\ml\\lib\\site-packages)\n",
      "WARNING: Ignoring invalid distribution -ensorboard (c:\\users\\user\\anaconda3\\envs\\ml\\lib\\site-packages)\n",
      "WARNING: Ignoring invalid distribution -mpy (c:\\users\\user\\anaconda3\\envs\\ml\\lib\\site-packages)\n",
      "WARNING: Ignoring invalid distribution -umpy (c:\\users\\user\\anaconda3\\envs\\ml\\lib\\site-packages)\n",
      "WARNING: Ignoring invalid distribution - (c:\\users\\user\\anaconda3\\envs\\ml\\lib\\site-packages)\n",
      "WARNING: Ignoring invalid distribution -ensorboard (c:\\users\\user\\anaconda3\\envs\\ml\\lib\\site-packages)\n",
      "WARNING: Ignoring invalid distribution -mpy (c:\\users\\user\\anaconda3\\envs\\ml\\lib\\site-packages)\n",
      "WARNING: Ignoring invalid distribution -umpy (c:\\users\\user\\anaconda3\\envs\\ml\\lib\\site-packages)\n",
      "WARNING: Ignoring invalid distribution - (c:\\users\\user\\anaconda3\\envs\\ml\\lib\\site-packages)\n",
      "WARNING: Ignoring invalid distribution -ensorboard (c:\\users\\user\\anaconda3\\envs\\ml\\lib\\site-packages)\n",
      "WARNING: Ignoring invalid distribution -mpy (c:\\users\\user\\anaconda3\\envs\\ml\\lib\\site-packages)\n",
      "WARNING: Ignoring invalid distribution -umpy (c:\\users\\user\\anaconda3\\envs\\ml\\lib\\site-packages)\n",
      "WARNING: Ignoring invalid distribution - (c:\\users\\user\\anaconda3\\envs\\ml\\lib\\site-packages)\n",
      "WARNING: Ignoring invalid distribution -ensorboard (c:\\users\\user\\anaconda3\\envs\\ml\\lib\\site-packages)\n",
      "WARNING: Ignoring invalid distribution -mpy (c:\\users\\user\\anaconda3\\envs\\ml\\lib\\site-packages)\n",
      "WARNING: Ignoring invalid distribution -umpy (c:\\users\\user\\anaconda3\\envs\\ml\\lib\\site-packages)\n",
      "WARNING: Ignoring invalid distribution - (c:\\users\\user\\anaconda3\\envs\\ml\\lib\\site-packages)\n",
      "WARNING: Ignoring invalid distribution -ensorboard (c:\\users\\user\\anaconda3\\envs\\ml\\lib\\site-packages)\n"
     ]
    },
    {
     "name": "stdout",
     "output_type": "stream",
     "text": [
      "importing Jupyter notebook from nlp_model_final.ipynb\n",
      "Requirement already satisfied: transformers==3.0.2 in c:\\users\\user\\anaconda3\\envs\\ml\\lib\\site-packages (3.0.2)\n",
      "Requirement already satisfied: tqdm>=4.27 in c:\\users\\user\\anaconda3\\envs\\ml\\lib\\site-packages (from transformers==3.0.2) (4.64.0)\n",
      "Requirement already satisfied: tokenizers==0.8.1.rc1 in c:\\users\\user\\anaconda3\\envs\\ml\\lib\\site-packages (from transformers==3.0.2) (0.8.1rc1)\n",
      "Requirement already satisfied: filelock in c:\\users\\user\\anaconda3\\envs\\ml\\lib\\site-packages (from transformers==3.0.2) (3.8.0)\n",
      "Requirement already satisfied: sacremoses in c:\\users\\user\\anaconda3\\envs\\ml\\lib\\site-packages (from transformers==3.0.2) (0.0.53)\n",
      "Requirement already satisfied: packaging in c:\\users\\user\\anaconda3\\envs\\ml\\lib\\site-packages (from transformers==3.0.2) (21.3)\n",
      "Requirement already satisfied: requests in c:\\users\\user\\anaconda3\\envs\\ml\\lib\\site-packages (from transformers==3.0.2) (2.18.4)\n",
      "Requirement already satisfied: numpy in c:\\users\\user\\anaconda3\\envs\\ml\\lib\\site-packages (from transformers==3.0.2) (1.23.4)\n",
      "Requirement already satisfied: regex!=2019.12.17 in c:\\users\\user\\anaconda3\\envs\\ml\\lib\\site-packages (from transformers==3.0.2) (2022.7.25)\n",
      "Requirement already satisfied: sentencepiece!=0.1.92 in c:\\users\\user\\anaconda3\\envs\\ml\\lib\\site-packages (from transformers==3.0.2) (0.1.97)\n",
      "Requirement already satisfied: colorama in c:\\users\\user\\anaconda3\\envs\\ml\\lib\\site-packages (from tqdm>=4.27->transformers==3.0.2) (0.4.5)\n",
      "Requirement already satisfied: pyparsing!=3.0.5,>=2.0.2 in c:\\users\\user\\anaconda3\\envs\\ml\\lib\\site-packages (from packaging->transformers==3.0.2) (3.0.4)\n",
      "Requirement already satisfied: idna<2.7,>=2.5 in c:\\users\\user\\anaconda3\\envs\\ml\\lib\\site-packages (from requests->transformers==3.0.2) (2.6)\n",
      "Requirement already satisfied: urllib3<1.23,>=1.21.1 in c:\\users\\user\\anaconda3\\envs\\ml\\lib\\site-packages (from requests->transformers==3.0.2) (1.22)\n",
      "Requirement already satisfied: certifi>=2017.4.17 in c:\\users\\user\\anaconda3\\envs\\ml\\lib\\site-packages (from requests->transformers==3.0.2) (2022.6.15)\n",
      "Requirement already satisfied: chardet<3.1.0,>=3.0.2 in c:\\users\\user\\anaconda3\\envs\\ml\\lib\\site-packages (from requests->transformers==3.0.2) (3.0.4)\n",
      "Requirement already satisfied: click in c:\\users\\user\\anaconda3\\envs\\ml\\lib\\site-packages (from sacremoses->transformers==3.0.2) (8.0.4)\n",
      "Requirement already satisfied: joblib in c:\\users\\user\\anaconda3\\envs\\ml\\lib\\site-packages (from sacremoses->transformers==3.0.2) (1.1.0)\n",
      "Requirement already satisfied: six in c:\\users\\user\\anaconda3\\envs\\ml\\lib\\site-packages (from sacremoses->transformers==3.0.2) (1.16.0)\n"
     ]
    },
    {
     "name": "stderr",
     "output_type": "stream",
     "text": [
      "WARNING: Ignoring invalid distribution -mpy (c:\\users\\user\\anaconda3\\envs\\ml\\lib\\site-packages)\n",
      "WARNING: Ignoring invalid distribution -umpy (c:\\users\\user\\anaconda3\\envs\\ml\\lib\\site-packages)\n",
      "WARNING: Ignoring invalid distribution - (c:\\users\\user\\anaconda3\\envs\\ml\\lib\\site-packages)\n",
      "WARNING: Ignoring invalid distribution -ensorboard (c:\\users\\user\\anaconda3\\envs\\ml\\lib\\site-packages)\n",
      "WARNING: Ignoring invalid distribution -mpy (c:\\users\\user\\anaconda3\\envs\\ml\\lib\\site-packages)\n",
      "WARNING: Ignoring invalid distribution -umpy (c:\\users\\user\\anaconda3\\envs\\ml\\lib\\site-packages)\n",
      "WARNING: Ignoring invalid distribution - (c:\\users\\user\\anaconda3\\envs\\ml\\lib\\site-packages)\n",
      "WARNING: Ignoring invalid distribution -ensorboard (c:\\users\\user\\anaconda3\\envs\\ml\\lib\\site-packages)\n",
      "WARNING: Ignoring invalid distribution -mpy (c:\\users\\user\\anaconda3\\envs\\ml\\lib\\site-packages)\n",
      "WARNING: Ignoring invalid distribution -umpy (c:\\users\\user\\anaconda3\\envs\\ml\\lib\\site-packages)\n",
      "WARNING: Ignoring invalid distribution - (c:\\users\\user\\anaconda3\\envs\\ml\\lib\\site-packages)\n",
      "WARNING: Ignoring invalid distribution -ensorboard (c:\\users\\user\\anaconda3\\envs\\ml\\lib\\site-packages)\n",
      "WARNING: Ignoring invalid distribution -mpy (c:\\users\\user\\anaconda3\\envs\\ml\\lib\\site-packages)\n",
      "WARNING: Ignoring invalid distribution -umpy (c:\\users\\user\\anaconda3\\envs\\ml\\lib\\site-packages)\n",
      "WARNING: Ignoring invalid distribution - (c:\\users\\user\\anaconda3\\envs\\ml\\lib\\site-packages)\n",
      "WARNING: Ignoring invalid distribution -ensorboard (c:\\users\\user\\anaconda3\\envs\\ml\\lib\\site-packages)\n",
      "WARNING: Ignoring invalid distribution -mpy (c:\\users\\user\\anaconda3\\envs\\ml\\lib\\site-packages)\n",
      "WARNING: Ignoring invalid distribution -umpy (c:\\users\\user\\anaconda3\\envs\\ml\\lib\\site-packages)\n",
      "WARNING: Ignoring invalid distribution - (c:\\users\\user\\anaconda3\\envs\\ml\\lib\\site-packages)\n",
      "WARNING: Ignoring invalid distribution -ensorboard (c:\\users\\user\\anaconda3\\envs\\ml\\lib\\site-packages)\n",
      "WARNING: Ignoring invalid distribution -mpy (c:\\users\\user\\anaconda3\\envs\\ml\\lib\\site-packages)\n",
      "WARNING: Ignoring invalid distribution -umpy (c:\\users\\user\\anaconda3\\envs\\ml\\lib\\site-packages)\n",
      "WARNING: Ignoring invalid distribution - (c:\\users\\user\\anaconda3\\envs\\ml\\lib\\site-packages)\n",
      "WARNING: Ignoring invalid distribution -ensorboard (c:\\users\\user\\anaconda3\\envs\\ml\\lib\\site-packages)\n"
     ]
    },
    {
     "name": "stdout",
     "output_type": "stream",
     "text": [
      "Requirement already satisfied: import_ipynb in c:\\users\\user\\anaconda3\\envs\\ml\\lib\\site-packages (0.1.4)\n",
      "Requirement already satisfied: nbformat in c:\\users\\user\\anaconda3\\envs\\ml\\lib\\site-packages (from import_ipynb) (5.3.0)\n",
      "Requirement already satisfied: IPython in c:\\users\\user\\anaconda3\\envs\\ml\\lib\\site-packages (from import_ipynb) (8.4.0)\n",
      "Requirement already satisfied: backcall in c:\\users\\user\\anaconda3\\envs\\ml\\lib\\site-packages (from IPython->import_ipynb) (0.2.0)\n",
      "Requirement already satisfied: pickleshare in c:\\users\\user\\anaconda3\\envs\\ml\\lib\\site-packages (from IPython->import_ipynb) (0.7.5)\n",
      "Requirement already satisfied: pygments>=2.4.0 in c:\\users\\user\\anaconda3\\envs\\ml\\lib\\site-packages (from IPython->import_ipynb) (2.11.2)\n",
      "Requirement already satisfied: jedi>=0.16 in c:\\users\\user\\anaconda3\\envs\\ml\\lib\\site-packages (from IPython->import_ipynb) (0.18.1)\n",
      "Requirement already satisfied: setuptools>=18.5 in c:\\users\\user\\anaconda3\\envs\\ml\\lib\\site-packages (from IPython->import_ipynb) (61.2.0)\n",
      "Requirement already satisfied: colorama in c:\\users\\user\\anaconda3\\envs\\ml\\lib\\site-packages (from IPython->import_ipynb) (0.4.5)\n",
      "Requirement already satisfied: traitlets>=5 in c:\\users\\user\\anaconda3\\envs\\ml\\lib\\site-packages (from IPython->import_ipynb) (5.1.1)\n",
      "Requirement already satisfied: prompt-toolkit!=3.0.0,!=3.0.1,<3.1.0,>=2.0.0 in c:\\users\\user\\anaconda3\\envs\\ml\\lib\\site-packages (from IPython->import_ipynb) (3.0.20)\n",
      "Requirement already satisfied: stack-data in c:\\users\\user\\anaconda3\\envs\\ml\\lib\\site-packages (from IPython->import_ipynb) (0.2.0)\n",
      "Requirement already satisfied: decorator in c:\\users\\user\\anaconda3\\envs\\ml\\lib\\site-packages (from IPython->import_ipynb) (5.1.1)\n",
      "Requirement already satisfied: matplotlib-inline in c:\\users\\user\\anaconda3\\envs\\ml\\lib\\site-packages (from IPython->import_ipynb) (0.1.2)\n",
      "Requirement already satisfied: jupyter-core in c:\\users\\user\\anaconda3\\envs\\ml\\lib\\site-packages (from nbformat->import_ipynb) (4.10.0)\n",
      "Requirement already satisfied: jsonschema>=2.6 in c:\\users\\user\\anaconda3\\envs\\ml\\lib\\site-packages (from nbformat->import_ipynb) (4.4.0)\n",
      "Requirement already satisfied: fastjsonschema in c:\\users\\user\\anaconda3\\envs\\ml\\lib\\site-packages (from nbformat->import_ipynb) (2.15.1)\n",
      "Requirement already satisfied: parso<0.9.0,>=0.8.0 in c:\\users\\user\\anaconda3\\envs\\ml\\lib\\site-packages (from jedi>=0.16->IPython->import_ipynb) (0.8.3)\n",
      "Requirement already satisfied: pyrsistent!=0.17.0,!=0.17.1,!=0.17.2,>=0.14.0 in c:\\users\\user\\anaconda3\\envs\\ml\\lib\\site-packages (from jsonschema>=2.6->nbformat->import_ipynb) (0.18.0)\n",
      "Requirement already satisfied: attrs>=17.4.0 in c:\\users\\user\\anaconda3\\envs\\ml\\lib\\site-packages (from jsonschema>=2.6->nbformat->import_ipynb) (21.4.0)\n",
      "Requirement already satisfied: importlib-resources>=1.4.0 in c:\\users\\user\\anaconda3\\envs\\ml\\lib\\site-packages (from jsonschema>=2.6->nbformat->import_ipynb) (5.2.0)\n",
      "Requirement already satisfied: wcwidth in c:\\users\\user\\anaconda3\\envs\\ml\\lib\\site-packages (from prompt-toolkit!=3.0.0,!=3.0.1,<3.1.0,>=2.0.0->IPython->import_ipynb) (0.2.5)\n",
      "Requirement already satisfied: pywin32>=1.0 in c:\\users\\user\\anaconda3\\envs\\ml\\lib\\site-packages (from jupyter-core->nbformat->import_ipynb) (302)\n",
      "Requirement already satisfied: asttokens in c:\\users\\user\\anaconda3\\envs\\ml\\lib\\site-packages (from stack-data->IPython->import_ipynb) (2.0.5)\n",
      "Requirement already satisfied: executing in c:\\users\\user\\anaconda3\\envs\\ml\\lib\\site-packages (from stack-data->IPython->import_ipynb) (0.8.3)\n",
      "Requirement already satisfied: pure-eval in c:\\users\\user\\anaconda3\\envs\\ml\\lib\\site-packages (from stack-data->IPython->import_ipynb) (0.2.2)\n",
      "Requirement already satisfied: zipp>=3.1.0 in c:\\users\\user\\anaconda3\\envs\\ml\\lib\\site-packages (from importlib-resources>=1.4.0->jsonschema>=2.6->nbformat->import_ipynb) (3.8.0)\n",
      "Requirement already satisfied: six in c:\\users\\user\\anaconda3\\envs\\ml\\lib\\site-packages (from asttokens->stack-data->IPython->import_ipynb) (1.16.0)\n"
     ]
    },
    {
     "name": "stderr",
     "output_type": "stream",
     "text": [
      "WARNING: Ignoring invalid distribution -mpy (c:\\users\\user\\anaconda3\\envs\\ml\\lib\\site-packages)\n",
      "WARNING: Ignoring invalid distribution -umpy (c:\\users\\user\\anaconda3\\envs\\ml\\lib\\site-packages)\n",
      "WARNING: Ignoring invalid distribution - (c:\\users\\user\\anaconda3\\envs\\ml\\lib\\site-packages)\n",
      "WARNING: Ignoring invalid distribution -ensorboard (c:\\users\\user\\anaconda3\\envs\\ml\\lib\\site-packages)\n",
      "WARNING: Ignoring invalid distribution -mpy (c:\\users\\user\\anaconda3\\envs\\ml\\lib\\site-packages)\n",
      "WARNING: Ignoring invalid distribution -umpy (c:\\users\\user\\anaconda3\\envs\\ml\\lib\\site-packages)\n",
      "WARNING: Ignoring invalid distribution - (c:\\users\\user\\anaconda3\\envs\\ml\\lib\\site-packages)\n",
      "WARNING: Ignoring invalid distribution -ensorboard (c:\\users\\user\\anaconda3\\envs\\ml\\lib\\site-packages)\n",
      "WARNING: Ignoring invalid distribution -mpy (c:\\users\\user\\anaconda3\\envs\\ml\\lib\\site-packages)\n",
      "WARNING: Ignoring invalid distribution -umpy (c:\\users\\user\\anaconda3\\envs\\ml\\lib\\site-packages)\n",
      "WARNING: Ignoring invalid distribution - (c:\\users\\user\\anaconda3\\envs\\ml\\lib\\site-packages)\n",
      "WARNING: Ignoring invalid distribution -ensorboard (c:\\users\\user\\anaconda3\\envs\\ml\\lib\\site-packages)\n",
      "WARNING: Ignoring invalid distribution -mpy (c:\\users\\user\\anaconda3\\envs\\ml\\lib\\site-packages)\n",
      "WARNING: Ignoring invalid distribution -umpy (c:\\users\\user\\anaconda3\\envs\\ml\\lib\\site-packages)\n",
      "WARNING: Ignoring invalid distribution - (c:\\users\\user\\anaconda3\\envs\\ml\\lib\\site-packages)\n",
      "WARNING: Ignoring invalid distribution -ensorboard (c:\\users\\user\\anaconda3\\envs\\ml\\lib\\site-packages)\n",
      "WARNING: Ignoring invalid distribution -mpy (c:\\users\\user\\anaconda3\\envs\\ml\\lib\\site-packages)\n",
      "WARNING: Ignoring invalid distribution -umpy (c:\\users\\user\\anaconda3\\envs\\ml\\lib\\site-packages)\n",
      "WARNING: Ignoring invalid distribution - (c:\\users\\user\\anaconda3\\envs\\ml\\lib\\site-packages)\n",
      "WARNING: Ignoring invalid distribution -ensorboard (c:\\users\\user\\anaconda3\\envs\\ml\\lib\\site-packages)\n",
      "WARNING: Ignoring invalid distribution -mpy (c:\\users\\user\\anaconda3\\envs\\ml\\lib\\site-packages)\n",
      "WARNING: Ignoring invalid distribution -umpy (c:\\users\\user\\anaconda3\\envs\\ml\\lib\\site-packages)\n",
      "WARNING: Ignoring invalid distribution - (c:\\users\\user\\anaconda3\\envs\\ml\\lib\\site-packages)\n",
      "WARNING: Ignoring invalid distribution -ensorboard (c:\\users\\user\\anaconda3\\envs\\ml\\lib\\site-packages)\n"
     ]
    }
   ],
   "source": [
    "import import_ipynb\n",
    "\n",
    "from nlp_Preproc_final import preproc\n",
    "from nlp_model_final import get_model, get_model_with_params, BertModelInitialization\n",
    "import random\n",
    "import numpy as np\n",
    "import pandas as pd\n",
    "import torch\n",
    "from tqdm.notebook import tqdm\n",
    "import time"
   ]
  },
  {
   "cell_type": "code",
   "execution_count": 5,
   "metadata": {
    "executionInfo": {
     "elapsed": 37,
     "status": "aborted",
     "timestamp": 1666100675918,
     "user": {
      "displayName": "김동규",
      "userId": "00781962647797002728"
     },
     "user_tz": -540
    },
    "id": "d6AVv6tp-toc"
   },
   "outputs": [],
   "source": [
    "# 정확도 계산 함수\n",
    "def accuracy(preds, labels):\n",
    "    f_pred = np.argmax(preds, axis=1).flatten()\n",
    "    f_labels = labels.flatten()\n",
    "    return np.sum(f_pred == f_labels) / len(f_labels)"
   ]
  },
  {
   "cell_type": "code",
   "execution_count": 6,
   "metadata": {
    "executionInfo": {
     "elapsed": 36,
     "status": "aborted",
     "timestamp": 1666100675919,
     "user": {
      "displayName": "김동규",
      "userId": "00781962647797002728"
     },
     "user_tz": -540
    },
    "id": "eLt4Ics9mbxh"
   },
   "outputs": [],
   "source": [
    "# 재현을 위해 랜덤시드 고정\n",
    "seed_val = 2022"
   ]
  },
  {
   "cell_type": "markdown",
   "metadata": {
    "id": "4rFOQhnW0Sac"
   },
   "source": [
    "**잠깐 ✔ 랜덤시드 고정이란 무엇인가?**\n",
    "> 학습된 모델의 결과를 동일하게 재현(Reproduction)하는 것은 여러가지 상황에서 팔요하다.  \n",
    "> 모델을 돌릴 때마다 결과가 달라지지 않도록 고정하는 것이다.\n",
    "\n",
    "- 수상자가 되어 코드의 정합성을 검증 받게 될 경우,\n",
    "\n",
    "- 경진대회 참가 도중 팀을 이루어 결과를 공유해야 되는 경우,\n",
    "\n",
    "- 논문을 작성하여 그 결과를 Reproduction 해야하는 경우 등 여러 상황에서 필요하다.\n",
    "\n",
    "참고 자료:\n",
    "https://dacon.io/codeshare/2363\n",
    "https://pytorch.org/docs/stable/notes/randomness.html\n"
   ]
  },
  {
   "cell_type": "code",
   "execution_count": 7,
   "metadata": {
    "executionInfo": {
     "elapsed": 36,
     "status": "aborted",
     "timestamp": 1666100675920,
     "user": {
      "displayName": "김동규",
      "userId": "00781962647797002728"
     },
     "user_tz": -540
    },
    "id": "UkWP2-37-4D3"
   },
   "outputs": [],
   "source": [
    "# 랜덤하게 데이터를 추출하기 위한 seed 값 설정\n",
    "random.seed(seed_val)\n",
    "np.random.seed(seed_val)\n",
    "torch.manual_seed(seed_val)\n",
    "torch.cuda.manual_seed_all(seed_val)"
   ]
  },
  {
   "cell_type": "code",
   "execution_count": 8,
   "metadata": {
    "executionInfo": {
     "elapsed": 37,
     "status": "aborted",
     "timestamp": 1666100675922,
     "user": {
      "displayName": "김동규",
      "userId": "00781962647797002728"
     },
     "user_tz": -540
    },
    "id": "7Dmau6rcf-2M"
   },
   "outputs": [
    {
     "name": "stdout",
     "output_type": "stream",
     "text": [
      "length of whole_data : 29991\n",
      "length of train_data : 26991\n"
     ]
    },
    {
     "name": "stderr",
     "output_type": "stream",
     "text": [
      "<string>:2: UserWarning: Creating a tensor from a list of numpy.ndarrays is extremely slow. Please consider converting the list to a single numpy.ndarray with numpy.array() before converting to a tensor. (Triggered internally at  C:\\cb\\pytorch_1000000000000\\work\\torch\\csrc\\utils\\tensor_new.cpp:204.)\n"
     ]
    }
   ],
   "source": [
    "from tokenization_kobert import KoBertTokenizer\n",
    "\n",
    "# 전체 데이터를 불러오자.\n",
    "whole_dataset = pd.read_excel('data/감정분류데이터셋.xlsx')\n",
    "\n",
    "# KoBERTTokenizer를 불러오자.\n",
    "tokenizer = KoBertTokenizer.from_pretrained(\"monologg/kobert\")\n",
    "\n",
    "train_dataloader, validation_dataloader = preproc(tokenizer, whole_dataset)"
   ]
  },
  {
   "cell_type": "code",
   "execution_count": 9,
   "metadata": {
    "executionInfo": {
     "elapsed": 36,
     "status": "aborted",
     "timestamp": 1666100675923,
     "user": {
      "displayName": "김동규",
      "userId": "00781962647797002728"
     },
     "user_tz": -540
    },
    "id": "tprWhba8ksrA"
   },
   "outputs": [
    {
     "name": "stderr",
     "output_type": "stream",
     "text": [
      "Some weights of BertForSequenceClassification were not initialized from the model checkpoint at monologg/kobert and are newly initialized: ['classifier.bias', 'classifier.weight']\n",
      "You should probably TRAIN this model on a down-stream task to be able to use it for predictions and inference.\n"
     ]
    }
   ],
   "source": [
    "# BertModel 생성해서 GPU 혹은 CPU에 등록\n",
    "# 기존 Device에 등록된 BertModel은 초기화되니, 유의하여 사용할 것.\n",
    "# 한 번만 실행하고, 그 이후로는 사용하지 않도록 조심!\n",
    "BertModelInitialization()"
   ]
  },
  {
   "cell_type": "code",
   "execution_count": 10,
   "metadata": {
    "executionInfo": {
     "elapsed": 35,
     "status": "aborted",
     "timestamp": 1666100675923,
     "user": {
      "displayName": "김동규",
      "userId": "00781962647797002728"
     },
     "user_tz": -540
    },
    "id": "mfzwRm9ukQ7D"
   },
   "outputs": [
    {
     "name": "stderr",
     "output_type": "stream",
     "text": [
      "Some weights of BertForSequenceClassification were not initialized from the model checkpoint at monologg/kobert and are newly initialized: ['classifier.bias', 'classifier.weight']\n",
      "You should probably TRAIN this model on a down-stream task to be able to use it for predictions and inference.\n"
     ]
    }
   ],
   "source": [
    "# GPU 디바이스 설정\n",
    "device = torch.device(\"cuda\" if torch.cuda.is_available() else \"cpu\")\n",
    "\n",
    "model, optimizer, scheduler, epochs, criterion = get_model_with_params(len(train_dataloader), device, torch.cuda.is_available())\n",
    "\n",
    "# 그래디언트 초기화\n",
    "model.zero_grad()"
   ]
  },
  {
   "cell_type": "code",
   "execution_count": 11,
   "metadata": {
    "executionInfo": {
     "elapsed": 35,
     "status": "aborted",
     "timestamp": 1666100675925,
     "user": {
      "displayName": "김동규",
      "userId": "00781962647797002728"
     },
     "user_tz": -540
    },
    "id": "2Vpjdar0-1U_"
   },
   "outputs": [
    {
     "name": "stdout",
     "output_type": "stream",
     "text": [
      "\n",
      "========1번째 Epoch / 전체 5회 ========\n",
      "훈련 중\n"
     ]
    },
    {
     "data": {
      "application/vnd.jupyter.widget-view+json": {
       "model_id": "4e008e103b434d9c853bfcf36d0f4ced",
       "version_major": 2,
       "version_minor": 0
      },
      "text/plain": [
       "  0%|          | 0/844 [00:00<?, ?it/s]"
      ]
     },
     "metadata": {},
     "output_type": "display_data"
    },
    {
     "name": "stdout",
     "output_type": "stream",
     "text": [
      "0번째 까지의 평균 loss : 0.0\n",
      "100번째 까지의 평균 loss : 1.8875537669658662\n",
      "200번째 까지의 평균 loss : 1.4509938943386078\n",
      "300번째 까지의 평균 loss : 0.8495236408710479\n",
      "400번째 까지의 평균 loss : 0.5542348913848401\n",
      "500번째 까지의 평균 loss : 0.49966470390558243\n",
      "600번째 까지의 평균 loss : 0.4151381673663855\n",
      "700번째 까지의 평균 loss : 0.37502781018614767\n",
      "800번째 까지의 평균 loss : 0.410758535861969\n",
      "\n",
      "training @ epoch 1 .. Train loss = 0.78 Train Accuracy = 0.73 \n",
      "\n",
      "검증 중\n",
      "Val loss = 0.37 .. Val Accuracy = 0.87 \n",
      "\n",
      "========2번째 Epoch / 전체 5회 ========\n",
      "훈련 중\n"
     ]
    },
    {
     "data": {
      "application/vnd.jupyter.widget-view+json": {
       "model_id": "2ee42d85c50845c89ad4ab4a24ef2810",
       "version_major": 2,
       "version_minor": 0
      },
      "text/plain": [
       "  0%|          | 0/844 [00:00<?, ?it/s]"
      ]
     },
     "metadata": {},
     "output_type": "display_data"
    },
    {
     "name": "stdout",
     "output_type": "stream",
     "text": [
      "0번째 까지의 평균 loss : 0.0\n",
      "100번째 까지의 평균 loss : 0.304215556755662\n",
      "200번째 까지의 평균 loss : 0.2939295771718025\n",
      "300번째 까지의 평균 loss : 0.30072483025491237\n",
      "400번째 까지의 평균 loss : 0.2950590277835727\n",
      "500번째 까지의 평균 loss : 0.3048558298125863\n",
      "600번째 까지의 평균 loss : 0.27864057186990976\n",
      "700번째 까지의 평균 loss : 0.2936717288382351\n",
      "800번째 까지의 평균 loss : 0.26160909308120606\n",
      "\n",
      "training @ epoch 2 .. Train loss = 0.29 Train Accuracy = 0.91 \n",
      "\n",
      "검증 중\n",
      "Val loss = 0.31 .. Val Accuracy = 0.90 \n",
      "\n",
      "========3번째 Epoch / 전체 5회 ========\n",
      "훈련 중\n"
     ]
    },
    {
     "data": {
      "application/vnd.jupyter.widget-view+json": {
       "model_id": "c8182927e7274c8d924e080656a9dac4",
       "version_major": 2,
       "version_minor": 0
      },
      "text/plain": [
       "  0%|          | 0/844 [00:00<?, ?it/s]"
      ]
     },
     "metadata": {},
     "output_type": "display_data"
    },
    {
     "name": "stdout",
     "output_type": "stream",
     "text": [
      "0번째 까지의 평균 loss : 0.0\n",
      "100번째 까지의 평균 loss : 0.18164732477627696\n",
      "200번째 까지의 평균 loss : 0.222244646018371\n",
      "300번째 까지의 평균 loss : 0.18507378680631517\n",
      "400번째 까지의 평균 loss : 0.20707498762756585\n",
      "500번째 까지의 평균 loss : 0.17428661899641157\n",
      "600번째 까지의 평균 loss : 0.1939831010950729\n",
      "700번째 까지의 평균 loss : 0.1544410687033087\n",
      "800번째 까지의 평균 loss : 0.16852827784605323\n",
      "\n",
      "training @ epoch 3 .. Train loss = 0.19 Train Accuracy = 0.94 \n",
      "\n",
      "검증 중\n",
      "Val loss = 0.30 .. Val Accuracy = 0.91 \n",
      "\n",
      "========4번째 Epoch / 전체 5회 ========\n",
      "훈련 중\n"
     ]
    },
    {
     "data": {
      "application/vnd.jupyter.widget-view+json": {
       "model_id": "0f6d82acec6e4198a9747b7cacf6cf53",
       "version_major": 2,
       "version_minor": 0
      },
      "text/plain": [
       "  0%|          | 0/844 [00:00<?, ?it/s]"
      ]
     },
     "metadata": {},
     "output_type": "display_data"
    },
    {
     "name": "stdout",
     "output_type": "stream",
     "text": [
      "0번째 까지의 평균 loss : 0.0\n",
      "100번째 까지의 평균 loss : 0.11531939410837368\n",
      "200번째 까지의 평균 loss : 0.11260150750400498\n",
      "300번째 까지의 평균 loss : 0.11704549623420463\n",
      "400번째 까지의 평균 loss : 0.10674681603908538\n",
      "500번째 까지의 평균 loss : 0.11837502902140841\n",
      "600번째 까지의 평균 loss : 0.1052116043958813\n",
      "700번째 까지의 평균 loss : 0.12188039152882993\n",
      "800번째 까지의 평균 loss : 0.10838056570617483\n",
      "\n",
      "training @ epoch 4 .. Train loss = 0.11 Train Accuracy = 0.96 \n",
      "\n",
      "검증 중\n",
      "Val loss = 0.34 .. Val Accuracy = 0.92 \n",
      "\n",
      "========5번째 Epoch / 전체 5회 ========\n",
      "훈련 중\n"
     ]
    },
    {
     "data": {
      "application/vnd.jupyter.widget-view+json": {
       "model_id": "bd1678187f9748e0850f0494b7b21efc",
       "version_major": 2,
       "version_minor": 0
      },
      "text/plain": [
       "  0%|          | 0/844 [00:00<?, ?it/s]"
      ]
     },
     "metadata": {},
     "output_type": "display_data"
    },
    {
     "name": "stdout",
     "output_type": "stream",
     "text": [
      "0번째 까지의 평균 loss : 0.0\n",
      "100번째 까지의 평균 loss : 0.07570520400302484\n",
      "200번째 까지의 평균 loss : 0.060468853543279695\n",
      "300번째 까지의 평균 loss : 0.06916832951828837\n",
      "400번째 까지의 평균 loss : 0.06932394689065405\n",
      "500번째 까지의 평균 loss : 0.0687312641274184\n",
      "600번째 까지의 평균 loss : 0.06384872040129266\n",
      "700번째 까지의 평균 loss : 0.08068216140614823\n",
      "800번째 까지의 평균 loss : 0.06948995956103317\n",
      "\n",
      "training @ epoch 5 .. Train loss = 0.07 Train Accuracy = 0.98 \n",
      "\n",
      "검증 중\n",
      "Val loss = 0.35 .. Val Accuracy = 0.92 \n",
      "\n",
      "Training complete!\n"
     ]
    },
    {
     "data": {
      "image/png": "[encoded data removed]",
      "text/plain": [
       "<Figure size 432x288 with 1 Axes>"
      ]
     },
     "metadata": {
      "needs_background": "light"
     },
     "output_type": "display_data"
    },
    {
     "data": {
      "image/png": "[encoded data removed]",
      "text/plain": [
       "<Figure size 432x288 with 1 Axes>"
      ]
     },
     "metadata": {
      "needs_background": "light"
     },
     "output_type": "display_data"
    },
    {
     "data": {
      "image/png": "[encoded data removed]",
      "text/plain": [
       "<Figure size 432x288 with 1 Axes>"
      ]
     },
     "metadata": {
      "needs_background": "light"
     },
     "output_type": "display_data"
    }
   ],
   "source": [
    "import matplotlib.pyplot as plt\n",
    "# 에폭만큼 반복\n",
    "\n",
    "\n",
    "train_accs=[]\n",
    "train_losses=[]\n",
    "val_losses=[]\n",
    "val_accs=[]\n",
    "lrs=[]\n",
    "\n",
    "for epoch_i in range(epochs):\n",
    "    print(\"\")\n",
    "    print('========{:}번째 Epoch / 전체 {:}회 ========'.format(epoch_i + 1, epochs))\n",
    "    print('훈련 중')\n",
    "\n",
    "    t0 = time.time() # 시작 시간 설정\n",
    "    total_loss = 0 # 로스 초기화\n",
    "    sum_loss = 0\n",
    "\n",
    "    train_loss, train_accuracy = 0, 0\n",
    "    nb_train_steps, nb_train_examples = 0, 0\n",
    "\n",
    "\n",
    "    model.train()  # 훈련모드로 변경\n",
    "\n",
    "    # 데이터로더에서 배치만큼 반복하여 가져옴\n",
    "    for step, batch in enumerate(tqdm(train_dataloader)):\n",
    "        \n",
    "        if step % 100 == 0:\n",
    "            print(\"{}번째 까지의 평균 loss : {}\".format(step, sum_loss/100))\n",
    "            sum_loss = 0\n",
    "\n",
    "        batch = tuple(t.to(device) for t in batch)   # 배치를 GPU에 넣음\n",
    "        b_input_ids, b_input_mask, b_labels = batch  # 배치에서 데이터 추출\n",
    "        \n",
    "        # nlp_model_final.ipynb 파일에서 BertClassifier 클래스를 정의하고 해당 클래스를 활용하여 'model'을 생성한 바 있다.\n",
    "        # 위의 코드에서 정의한 배치 데이터를 'model'의 입력 변수로 이용하여, 배치에 대한 forward를 수행해보자.   \n",
    "        # Hint: BertClassifier의 forward를 수행하기 위해서는 input_ids, attention_mask 변수를 입력받아야 한다. \n",
    "        ## 여기에 코드 작성\n",
    "        outputs = model(input_ids=b_input_ids, attention_mask=b_input_mask)\n",
    "        # 위에서 산출된 7차원 벡터와 criterion, b_labels를 활용해서 loss를 계산해보자.\n",
    "        ## 여기에 코드 작성\n",
    "        b_labels=b_labels.type(torch.LongTensor).to(device)\n",
    "        \n",
    "        loss = criterion(outputs[0], b_labels)\n",
    "        total_loss += loss.item() # 총 로스 계산\n",
    "        sum_loss += loss.item()\n",
    "\n",
    "        loss.backward() # Backward 수행으로 그래디언트 계산\n",
    "        torch.nn.utils.clip_grad_norm_(model.parameters(), 1.0) # 그래디언트 클리핑\n",
    "        optimizer.step() # 그래디언트를 통해 가중치 파라미터 업데이트\n",
    "        lrs.append(\n",
    "        optimizer.param_groups[0][\"lr\"]\n",
    "        )\n",
    "        scheduler.step()  # 스케줄러로 학습률 감소\n",
    "        \n",
    "        outputs = outputs[0]\n",
    "        outputs = outputs.detach().cpu().numpy()\n",
    "        label_ids = b_labels.to('cpu').numpy()\n",
    "\n",
    "        tmp_train_accuracy = accuracy(outputs, label_ids)\n",
    "        train_accuracy += tmp_train_accuracy\n",
    "        nb_train_steps += 1\n",
    "\n",
    "        model.zero_grad() # 그래디언트 초기화\n",
    "        \n",
    "    # 평균 로스 계산\n",
    "    avg_train_loss = total_loss / len(train_dataloader)   \n",
    "    Train_acc=train_accuracy/nb_train_steps  \n",
    "    print(\"\")\n",
    "    print(f'training @ epoch {epoch_i+1} .. Train loss = {avg_train_loss:.2f} Train Accuracy = {Train_acc:.2f} ')\n",
    "    train_accs.append(Train_acc)\n",
    "    train_losses.append(avg_train_loss)\n",
    "    #### 검증 ####\n",
    "    \n",
    "    print(\"\")\n",
    "    print(\"검증 중\")\n",
    "\n",
    "    t0 = time.time() #시작 시간\n",
    "    model.eval()\n",
    "    total_loss=0\n",
    "    # 변수 초기화\n",
    "    eval_loss, eval_accuracy = 0, 0\n",
    "    nb_eval_steps, nb_eval_examples = 0, 0\n",
    "\n",
    "    # 데이터로더에서 배치만큼 반복하여 가져옴\n",
    "    for batch in validation_dataloader:\n",
    "        # 배치를 GPU에 넣음\n",
    "        batch = tuple(t.to(device) for t in batch)\n",
    "        \n",
    "        # 배치에서 데이터 추출\n",
    "        b_input_ids, b_input_mask, b_labels = batch\n",
    "        \n",
    "        # 그래디언트 계산 안함\n",
    "        with torch.no_grad():\n",
    "            # 위 train과 같은 논리. forward를 수행해서 7차원 벡터 출력    \n",
    "            # outputs = ~~ 과 같이 작성\n",
    "            ## 여기에 코드 작성\n",
    "            outputs = model(input_ids=b_input_ids, attention_mask=b_input_mask)\n",
    "            \n",
    "            b_labels=b_labels.type(torch.LongTensor).to(device)\n",
    "            \n",
    "            loss = criterion(outputs[0], b_labels)\n",
    "        total_loss += loss.item() # 총 로스 계산\n",
    "        # CPU로 데이터 이동\n",
    "        outputs = outputs[0]\n",
    "        outputs = outputs.detach().cpu().numpy()\n",
    "        label_ids = b_labels.to('cpu').numpy()\n",
    "        \n",
    "        # 위에 구현한 accuracy 함수를 활용해서 출력 로짓과 라벨을 비교하여 정확도 계산\n",
    "        # tmp_eval_accuracy = ~~ 와 같이 작성\n",
    "        ## 여기에 코드 작성\n",
    "        tmp_eval_accuracy = accuracy(outputs, label_ids)\n",
    "        eval_accuracy += tmp_eval_accuracy\n",
    "        nb_eval_steps += 1\n",
    "    avg_val_loss = total_loss / len(validation_dataloader)\n",
    "    val_acc=eval_accuracy/nb_eval_steps\n",
    "    print(f'Val loss = {avg_val_loss:.2f} .. Val Accuracy = {val_acc:.2f} ')\n",
    "    val_accs.append(val_acc)\n",
    "    val_losses.append(avg_val_loss)\n",
    "# 학습된 모델을 해당 PATH에 저장\n",
    "PATH = \"model.pt\"\n",
    "torch.save(model.state_dict(), PATH)\n",
    "\n",
    "\n",
    "plt.rcParams.update({'font.size':15})\n",
    "\n",
    "plt.figure(1)\n",
    "plt.plot(np.arange(1,epochs+1),train_accs,'-o')\n",
    "plt.plot(np.arange(1,epochs+1),val_accs,'-o')\n",
    "plt.xlabel('epoch')\n",
    "plt.ylabel('accuracy')\n",
    "plt.legend(['Train','Valid'])\n",
    "plt.title('Train vs Valid Accuracy')\n",
    "\n",
    "plt.savefig('bert_Accuracy_graph.png',\n",
    "            format='png', dpi=200)\n",
    "\n",
    "plt.figure(2)\n",
    "plt.plot(np.arange(1,epochs+1),train_losses,'-o')\n",
    "plt.plot(np.arange(1,epochs+1),val_losses,'-o')\n",
    "plt.xlabel('epoch')\n",
    "plt.ylabel('losses')\n",
    "plt.legend(['Train','Valid'])\n",
    "plt.title('Train vs Valid Losses')\n",
    "\n",
    "plt.savefig('bert_Loss_graph.png',\n",
    "            format='png', dpi=200)\n",
    "\n",
    "\n",
    "plt.figure(3)\n",
    "plt.plot(lrs)\n",
    "plt.xlabel('epoch')\n",
    "plt.ylabel('learning_rate')\n",
    "plt.title('get_cosine_schedule_with_warmup')\n",
    "plt.savefig('bert_learning_rate.png',\n",
    "        format='png', dpi=200)\n",
    "\n",
    "print(\"\")\n",
    "print(\"Training complete!\")"
   ]
  },
  {
   "cell_type": "code",
   "execution_count": null,
   "metadata": {
    "id": "_hAYFg0c2ux2"
   },
   "outputs": [],
   "source": []
  }
 ],
 "metadata": {
  "colab": {
   "collapsed_sections": [],
   "provenance": []
  },
  "gpuClass": "standard",
  "kernelspec": {
   "display_name": "Python 3 (ipykernel)",
   "language": "python",
   "name": "python3"
  },
  "language_info": {
   "codemirror_mode": {
    "name": "ipython",
    "version": 3
   },
   "file_extension": ".py",
   "mimetype": "text/x-python",
   "name": "python",
   "nbconvert_exporter": "python",
   "pygments_lexer": "ipython3",
   "version": "3.8.13"
  }
 },
 "nbformat": 4,
 "nbformat_minor": 1
}
